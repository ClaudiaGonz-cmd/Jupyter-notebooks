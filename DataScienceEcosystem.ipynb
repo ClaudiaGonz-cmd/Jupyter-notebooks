{
 "cells": [
  {
   "cell_type": "markdown",
   "id": "93b85359-c0cd-4316-b5c3-abb1ee37c794",
   "metadata": {},
   "source": [
    "<h1>Science Tools an Ecosystem<1h>"
   ]
  },
  {
   "cell_type": "markdown",
   "id": "2bdf3769-b4db-416a-ad7e-5c5f8a5803d0",
   "metadata": {},
   "source": [
    "In this notebook, Data Science Tools and Ecosystem are summarized"
   ]
  },
  {
   "cell_type": "markdown",
   "id": "fda907d6-8139-42de-8f65-c0ec2ddc4399",
   "metadata": {},
   "source": [
    "Objectives:"
   ]
  },
  {
   "cell_type": "markdown",
   "id": "a68629a4-4269-4742-8640-053f79e4f702",
   "metadata": {},
   "source": [
    " Create a Jupyter Notebook,\n",
    " Insert code and markdownn cells,\n",
    " Share our notebook GitHub."
   ]
  },
  {
   "cell_type": "markdown",
   "id": "ca590c1f-2aae-442c-8cbf-ee903a1fdada",
   "metadata": {},
   "source": [
    "List popular languages for Data Science ; There are several popular programming languages used in the field of data science here are some of the most widely used ones:\n",
    "* Phyton is one of the most popular languages in data science\n",
    "* R:r is specifically designed for statistical computing and graphics\n",
    "* SQL is essential for working with relational databases\n"
   ]
  },
  {
   "cell_type": "markdown",
   "id": "9bfb28e6-78b3-4495-b1c8-fa9d29dcf96a",
   "metadata": {},
   "source": [
    "Some of the Popular used lenguages that Data Scienctists use are:"
   ]
  },
  {
   "cell_type": "markdown",
   "id": "1dbb5799-7aab-49b2-b302-57408cd8a6cf",
   "metadata": {
    "tags": []
   },
   "source": [
    "* 1 Phyton\n",
    "* 2 R:r\n",
    "* 3 SQL"
   ]
  },
  {
   "cell_type": "markdown",
   "id": "cba91248-2166-48b3-88dc-a474a73ad79e",
   "metadata": {},
   "source": [
    "Some of the commonly used libraries used by Data Scientists include."
   ]
  },
  {
   "cell_type": "markdown",
   "id": "8d93710b-c08e-4963-a3ac-f9fb87f35535",
   "metadata": {},
   "source": [
    "* 1 NumPy\n",
    "* 2 Pandas\n",
    "* 3 Scikkit-learn\n",
    "* 4 TensorFlow\n",
    "* 5 PyTorch"
   ]
  },
  {
   "cell_type": "markdown",
   "id": "19b3f7ce-6149-433e-957e-b722b6e81676",
   "metadata": {},
   "source": [
    "Data Science Tools"
   ]
  },
  {
   "cell_type": "markdown",
   "id": "395ada3c-1c64-4703-a981-03a8b52ef7f4",
   "metadata": {},
   "source": [
    "* 1 Jupyter Notebook\n",
    "* 2 RStudio\n",
    "* 3 PyCharm Community Edition"
   ]
  },
  {
   "cell_type": "markdown",
   "id": "73c3a4e3-5a15-40d6-af18-df91d3ad235b",
   "metadata": {},
   "source": [
    "<h3>Below are a few examples of evaluating arithmetic expressions in Phyton<h3>"
   ]
  },
  {
   "cell_type": "code",
   "execution_count": 1,
   "id": "0bd3ea4a-88b3-4d07-919e-3b02f58eec9b",
   "metadata": {},
   "outputs": [
    {
     "data": {
      "text/plain": [
       "17"
      ]
     },
     "execution_count": 1,
     "metadata": {},
     "output_type": "execute_result"
    }
   ],
   "source": [
    "( 3 * 4) + 5"
   ]
  },
  {
   "cell_type": "markdown",
   "id": "65dbc8bb-dd6d-47f8-8c2d-c96266230b81",
   "metadata": {},
   "source": [
    "This is a simple arithmetic expressions to multiply then add integers."
   ]
  },
  {
   "cell_type": "code",
   "execution_count": 2,
   "id": "7d35fa4f-c0d3-4355-bbac-ba8814f8463d",
   "metadata": {
    "tags": []
   },
   "outputs": [
    {
     "data": {
      "text/plain": [
       "17"
      ]
     },
     "execution_count": 2,
     "metadata": {},
     "output_type": "execute_result"
    }
   ],
   "source": [
    "( 3 * 4) + 5"
   ]
  },
  {
   "cell_type": "markdown",
   "id": "4b723800-a50b-4788-a65e-af955b26ed8d",
   "metadata": {},
   "source": [
    "This will convert 200 minutes to hours by diving by 60"
   ]
  },
  {
   "cell_type": "code",
   "execution_count": 4,
   "id": "6168d57d-6f96-4715-8356-d50ad4fb2c2e",
   "metadata": {
    "tags": []
   },
   "outputs": [
    {
     "data": {
      "text/plain": [
       "3.3333333333333335"
      ]
     },
     "execution_count": 4,
     "metadata": {},
     "output_type": "execute_result"
    }
   ],
   "source": [
    "(200 / 60) "
   ]
  },
  {
   "cell_type": "markdown",
   "id": "52d3a656-c69d-4255-ba29-3dc047473165",
   "metadata": {},
   "source": [
    "<h2>Author<h2>"
   ]
  },
  {
   "cell_type": "markdown",
   "id": "34b1a52f-ef12-49de-acca-f7edc02c7e3a",
   "metadata": {},
   "source": [
    "Claudia Gonzalez Andrade "
   ]
  },
  {
   "cell_type": "code",
   "execution_count": null,
   "id": "0a656c9b-f59b-43ca-abd5-933a8c61afb8",
   "metadata": {},
   "outputs": [],
   "source": []
  }
 ],
 "metadata": {
  "kernelspec": {
   "display_name": "Python",
   "language": "python",
   "name": "conda-env-python-py"
  },
  "language_info": {
   "codemirror_mode": {
    "name": "ipython",
    "version": 3
   },
   "file_extension": ".py",
   "mimetype": "text/x-python",
   "name": "python",
   "nbconvert_exporter": "python",
   "pygments_lexer": "ipython3",
   "version": "3.7.12"
  },
  "toc-autonumbering": true,
  "toc-showcode": true,
  "toc-showmarkdowntxt": true
 },
 "nbformat": 4,
 "nbformat_minor": 5
}
